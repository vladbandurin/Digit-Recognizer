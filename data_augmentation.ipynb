{
 "cells": [
  {
   "cell_type": "code",
   "execution_count": 1,
   "metadata": {},
   "outputs": [],
   "source": [
    "import tensorflow as tf\n",
    "import PIL\n",
    "import os\n",
    "from PIL import Image\n",
    "import matplotlib.image as mpimg\n",
    "import matplotlib.pyplot as plt\n",
    "import numpy as np\n"
   ]
  },
  {
   "cell_type": "markdown",
   "metadata": {},
   "source": [
    "### IMAGE PREPARATION"
   ]
  },
  {
   "cell_type": "code",
   "execution_count": 2,
   "metadata": {},
   "outputs": [
    {
     "name": "stdout",
     "output_type": "stream",
     "text": [
      "['.ipynb_checkpoints', 'data_augmentation.ipynb', 'handwritten_data', 'model', 'test_loaded_model.ipynb', 'training.ipynb']\n"
     ]
    }
   ],
   "source": [
    "IMAGE_SIZE = 28\n",
    "if 'data' not in os.listdir('./'):\n",
    "    os.mkdir('./data')\n",
    "for i in range(1, 9):\n",
    "    if str(i) not in os.listdir('./data'):\n",
    "        os.mkdir('./data/'+str(i)+'/')\n",
    "    for j in range(1, 21):\n",
    "        \n",
    "        file_name = 'handwritten_data/{directory}/{file}.jpg'.format(directory=i, file=j)\n",
    "        file_save = 'data/{directory}/{file}.jpg'.format(directory=i, file=j)\n",
    "        image = Image.open(file_name)\n",
    "        \n",
    "        new_image = np.array(image.resize((IMAGE_SIZE, IMAGE_SIZE), PIL.Image.ANTIALIAS))\n",
    "        plt.imsave(file_name, new_image)\n",
    "        \n",
    "        im = Image.fromarray(plt.imread(file_name)[:, :, :3])\n",
    "        im.save(file_save)"
   ]
  },
  {
   "cell_type": "markdown",
   "metadata": {},
   "source": [
    "### AUGMENTATION"
   ]
  },
  {
   "cell_type": "markdown",
   "metadata": {},
   "source": [
    "#### Rotating"
   ]
  },
  {
   "cell_type": "code",
   "execution_count": 3,
   "metadata": {},
   "outputs": [],
   "source": [
    "scaling_degrees = [1, 3, 5, 7, 9, 11, 13, 15, 17, 19, 21]\n",
    "\n",
    "for i in range(1, 9):\n",
    "    for j in range(1, 21):\n",
    "        for degree in scaling_degrees:\n",
    "            file_name = 'handwritten_data/{directory}/{file}.jpg'.format(directory=i, file=j)\n",
    "            tmp_image = Image.open(file_name)\n",
    "            tmp_image = tmp_image.rotate(degree, fillcolor='white')\n",
    "            tmp_image.save('data/{directory}/{file}_rotated_{degree}.jpg'.format(directory=i, file=j, degree=degree))"
   ]
  },
  {
   "cell_type": "code",
   "execution_count": 4,
   "metadata": {},
   "outputs": [],
   "source": [
    "scaling_degrees = [1, 3, 5, 7, 9, 11, 13, 15, 17, 19, 21]\n",
    "\n",
    "for i in range(1, 9):\n",
    "    for j in range(1, 21):\n",
    "        for degree in scaling_degrees:\n",
    "            file_name = 'handwritten_data/{directory}/{file}.jpg'.format(directory=i, file=j)\n",
    "            tmp_image = Image.open(file_name)\n",
    "            tmp_image = tmp_image.rotate(360-degree, fillcolor='white')\n",
    "            tmp_image.save('data/{directory}/{file}_rotated_{degree}.jpg'.format(directory=i, file=j, degree=360-degree))"
   ]
  },
  {
   "cell_type": "markdown",
   "metadata": {},
   "source": [
    "### Cropping"
   ]
  },
  {
   "cell_type": "code",
   "execution_count": 5,
   "metadata": {
    "scrolled": false
   },
   "outputs": [],
   "source": [
    "IMAGE_SIZE = 28\n",
    "\n",
    "def crop_image(X_img, crop):\n",
    "    tf.reset_default_graph()\n",
    "    \n",
    "    original_size = [IMAGE_SIZE, IMAGE_SIZE, 3]\n",
    "    X = tf.placeholder(dtype = tf.float32, shape = original_size)\n",
    "\n",
    "    crop_size = [crop, crop, 3]\n",
    "    \n",
    "    seed = np.random.randint(7)\n",
    "    X_crop = tf.random_crop(X, size = crop_size, seed = seed)\n",
    "    output = tf.image.resize_images(X_crop, size =(IMAGE_SIZE, IMAGE_SIZE))\n",
    "\n",
    "    with tf.Session() as sess:\n",
    "        sess.run(tf.global_variables_initializer())\n",
    "        cropped = sess.run(output, feed_dict = {X: X_img})\n",
    "        cropped = tf.cast(cropped, np.uint8).eval()\n",
    "    return cropped"
   ]
  },
  {
   "cell_type": "code",
   "execution_count": 6,
   "metadata": {},
   "outputs": [],
   "source": [
    "cropped_size = [23, 22, 21, 20]\n",
    "\n",
    "for i in range(1, 9):\n",
    "    for j in range(1, 21):\n",
    "        for crop in cropped_size:\n",
    "            file_name = 'handwritten_data/{directory}/{file}.jpg'.format(directory=i, file=j)\n",
    "            tmp_image = mpimg.imread(file_name)\n",
    "            cropped_image = crop_image(tmp_image, crop)\n",
    "            mpimg.imsave('data/{directory}/{file}_cropped_{crop}.jpg'.format(directory=i, file=j, crop=crop), cropped_image)"
   ]
  },
  {
   "cell_type": "markdown",
   "metadata": {},
   "source": [
    "### Translation"
   ]
  },
  {
   "cell_type": "code",
   "execution_count": 7,
   "metadata": {},
   "outputs": [],
   "source": [
    "vertical_translation = [1, 2, 3, 4, -1, -2, -3, -4]\n",
    "\n",
    "for i in range(1, 9):\n",
    "    for j in range(1, 21):\n",
    "        for pad in vertical_translation:\n",
    "            file_name = 'handwritten_data/{directory}/{file}.jpg'.format(directory=i, file=j)\n",
    "            tmp_image = Image.open(file_name)\n",
    "            translated_image = tmp_image.transform(tmp_image.size, Image.AFFINE, (1, 0, 0, 0, 1, pad), fillcolor='white')\n",
    "            mpimg.imsave('data/{directory}/{file}_translated_{pad}.jpg'.format(directory=i, file=j, pad=pad), \n",
    "                         np.array(translated_image))"
   ]
  },
  {
   "cell_type": "code",
   "execution_count": null,
   "metadata": {},
   "outputs": [],
   "source": []
  }
 ],
 "metadata": {
  "kernelspec": {
   "display_name": "Python 3",
   "language": "python",
   "name": "python3"
  },
  "language_info": {
   "codemirror_mode": {
    "name": "ipython",
    "version": 3
   },
   "file_extension": ".py",
   "mimetype": "text/x-python",
   "name": "python",
   "nbconvert_exporter": "python",
   "pygments_lexer": "ipython3",
   "version": "3.6.4"
  }
 },
 "nbformat": 4,
 "nbformat_minor": 2
}
